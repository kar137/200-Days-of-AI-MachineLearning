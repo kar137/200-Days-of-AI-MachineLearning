{
 "cells": [
  {
   "cell_type": "markdown",
   "id": "0c556beb",
   "metadata": {},
   "source": [
    "## Learning how to use github copilot effectively on how to assist with programming, development and building models and overall how to solve problems and create solution with ai assistance.\n",
    "\n",
    "- Here's the linkedin post to what I did on that particular day: https://www.linkedin.com/posts/karan-bista-6200242a1_200daysofdatascienceandmachinelearning-machinelearning-activity-7323027640301314049-Mv5q?utm_source=share&utm_medium=member_desktop&rcm=ACoAAEjL0HgBgW555IIwqFXymdiiiQmVl6QdK_k"
   ]
  }
 ],
 "metadata": {
  "language_info": {
   "name": "python"
  }
 },
 "nbformat": 4,
 "nbformat_minor": 5
}
