{
 "cells": [
  {
   "cell_type": "markdown",
   "id": "951d90b9",
   "metadata": {},
   "source": [
    "# Orientation of AI Fellowship and Introduction to AI/ML by Rojesh sir\n",
    "- This day I attended ai fellowship and got insights about the Introduction to AI/ML. It was a very insightful session and got to know about a lot of things about AI and it's broader aspects. \n",
    "\n",
    "- Here's the link of linkedin post to Day 10 learning: https://www.linkedin.com/posts/karan-bista-6200242a1_200daysofdatascienceandmachinelearning-ai-activity-7322671671562182656-528m?utm_source=share&utm_medium=member_desktop&rcm=ACoAAEjL0HgBgW555IIwqFXymdiiiQmVl6QdK_k"
   ]
  }
 ],
 "metadata": {
  "language_info": {
   "name": "python"
  }
 },
 "nbformat": 4,
 "nbformat_minor": 5
}
